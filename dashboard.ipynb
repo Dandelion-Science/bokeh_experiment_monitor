{
 "cells": [
  {
   "cell_type": "code",
   "execution_count": null,
   "metadata": {},
   "outputs": [],
   "source": [
    "import time\n",
    "import uuid\n",
    "\n",
    "from matplotlib import pyplot as plt\n",
    "from mne import set_log_level\n",
    "\n",
    "from mne_lsl.datasets import sample\n",
    "from mne_lsl.player import PlayerLSL as Player\n",
    "from mne_lsl.stream import StreamLSL as Stream\n",
    "\n",
    "set_log_level(\"WARNING\")\n",
    "\n",
    "source_id = \"eeg_mock\"\n",
    "fname = \"/Users/dannemrodov/Downloads/IR_13_S01.bdf\"\n",
    "player = Player(fname, chunk_size=200, source_id=source_id, n_repeat=np.inf, annotations=True).start()\n"
   ]
  },
  {
   "cell_type": "code",
   "execution_count": null,
   "metadata": {},
   "outputs": [],
   "source": [
    "sinfo = StreamInfo(\n",
    "    name=\"my-stream\",\n",
    "    stype=\"eeg\",\n",
    "    n_channels=3,\n",
    "    sfreq=1024,\n",
    "    dtype=\"float32\",\n",
    "    source_id=uuid.uuid4().hex,\n",
    ")\n",
    "sinfo.set_channel_names([\"Fz\", \"Cz\", \"Oz\"])\n",
    "sinfo.set_channel_types(\"eeg\")\n",
    "sinfo.set_channel_units(\"microvolts\")"
   ]
  },
  {
   "cell_type": "code",
   "execution_count": 6,
   "metadata": {},
   "outputs": [
    {
     "name": "stdout",
     "output_type": "stream",
     "text": [
      "2\n",
      "512.0\n"
     ]
    }
   ],
   "source": [
    "from mne_lsl.lsl import (\n",
    "    StreamInfo,\n",
    "    StreamInlet,\n",
    "    StreamOutlet,\n",
    "    local_clock,\n",
    "    resolve_streams,\n",
    ")\n",
    "\n",
    "streams = resolve_streams()\n",
    "print(len(streams))\n",
    "print(streams[1].sfreq)"
   ]
  },
  {
   "cell_type": "code",
   "execution_count": 19,
   "metadata": {},
   "outputs": [
    {
     "data": {
      "text/plain": [
       "65"
      ]
     },
     "execution_count": 19,
     "metadata": {},
     "output_type": "execute_result"
    }
   ],
   "source": [
    "inlet = StreamInlet(streams[0])\n",
    "inlet.open_stream()\n",
    "sinfo = inlet.get_sinfo()\n",
    "len(sinfo.get_channel_names())"
   ]
  },
  {
   "cell_type": "code",
   "execution_count": 8,
   "metadata": {},
   "outputs": [
    {
     "data": {
      "text/plain": [
       "<Annotations | 3 segments: event1 (1), event2 (1), event3 (1)>"
      ]
     },
     "execution_count": 8,
     "metadata": {},
     "output_type": "execute_result"
    }
   ],
   "source": [
    "import uuid\n",
    "\n",
    "import matplotlib.patches as mpatches\n",
    "import numpy as np\n",
    "from matplotlib import pyplot as plt\n",
    "from mne import Annotations, create_info\n",
    "from mne.io import RawArray\n",
    "from mne.viz import set_browser_backend\n",
    "\n",
    "from mne_lsl.player import PlayerLSL\n",
    "from mne_lsl.stream import StreamLSL\n",
    "\n",
    "annotations = Annotations(\n",
    "    onset=[1, 2, 3],\n",
    "    duration=[0.1, 0.2, 0.3],\n",
    "    description=[\"event1\", \"event2\", \"event3\"],\n",
    ")\n",
    "annotations"
   ]
  },
  {
   "cell_type": "code",
   "execution_count": 62,
   "metadata": {},
   "outputs": [],
   "source": [
    "#player.stop()\n",
    "#del player \n",
    "del stream"
   ]
  },
  {
   "cell_type": "code",
   "execution_count": 20,
   "metadata": {},
   "outputs": [],
   "source": [
    "from mne_lsl.stream import StreamLSL as Stream\n",
    "import numpy as np\n",
    "import time\n",
    "stream = Stream(bufsize=4, source_id='eye_tracker').connect()\n",
    "time.sleep(4)\n",
    "out = stream.get_data()[0][11:13,:]"
   ]
  },
  {
   "cell_type": "code",
   "execution_count": 25,
   "metadata": {},
   "outputs": [
    {
     "data": {
      "text/plain": [
       "array([[-0.07824518, -0.08432555, -0.07347606, ...,  0.36779638,\n",
       "         0.35609544,  0.34931739],\n",
       "       [ 0.22358284,  0.2379458 ,  0.22904926, ...,  0.00345182,\n",
       "         0.00382103, -0.0007878 ]])"
      ]
     },
     "execution_count": 25,
     "metadata": {},
     "output_type": "execute_result"
    }
   ],
   "source": [
    "out"
   ]
  },
  {
   "cell_type": "code",
   "execution_count": 26,
   "metadata": {},
   "outputs": [
    {
     "data": {
      "text/plain": [
       "array([[0.        , 0.        , 0.        , 0.        , 0.        ,\n",
       "        0.        , 0.        , 0.        , 0.        , 0.        ],\n",
       "       [0.        , 0.        , 0.        , 0.        , 0.        ,\n",
       "        0.        , 0.        , 0.        , 0.        , 0.        ],\n",
       "       [0.        , 0.        , 0.        , 0.        , 0.        ,\n",
       "        0.        , 0.        , 0.        , 0.        , 0.        ],\n",
       "       [0.        , 0.        , 0.        , 0.        , 0.        ,\n",
       "        0.        , 0.        , 0.        , 0.        , 0.        ],\n",
       "       [0.        , 0.        , 0.        , 0.        , 0.        ,\n",
       "        0.        , 0.        , 0.        , 0.        , 0.        ],\n",
       "       [0.        , 0.        , 0.        , 0.        , 0.        ,\n",
       "        0.        , 0.        , 0.        , 0.        , 0.        ],\n",
       "       [0.        , 0.        , 0.        , 0.        , 0.        ,\n",
       "        1.39044944, 4.84550562, 0.50561798, 0.        , 0.        ],\n",
       "       [0.        , 0.        , 0.        , 0.        , 0.        ,\n",
       "        1.43258427, 6.99438202, 0.        , 0.        , 0.        ],\n",
       "       [0.        , 0.        , 0.        , 0.        , 0.06320225,\n",
       "        1.85393258, 0.        , 0.        , 0.        , 0.        ],\n",
       "       [0.        , 0.        , 0.        , 0.        , 0.        ,\n",
       "        3.98174157, 0.        , 0.        , 0.        , 0.        ],\n",
       "       [0.        , 0.        , 0.        , 0.        , 0.        ,\n",
       "        0.        , 0.        , 0.        , 0.        , 0.        ],\n",
       "       [0.        , 0.        , 0.        , 0.        , 0.        ,\n",
       "        0.        , 0.        , 0.        , 0.        , 0.        ],\n",
       "       [0.        , 0.        , 0.        , 0.        , 0.        ,\n",
       "        0.        , 0.        , 0.        , 0.        , 0.        ],\n",
       "       [0.        , 0.        , 0.        , 0.        , 0.        ,\n",
       "        0.        , 0.        , 0.        , 0.        , 0.        ],\n",
       "       [0.        , 0.        , 0.        , 0.        , 0.        ,\n",
       "        0.        , 0.        , 0.        , 0.        , 0.        ]])"
      ]
     },
     "execution_count": 26,
     "metadata": {},
     "output_type": "execute_result"
    }
   ],
   "source": [
    "hist, xedges, yedges = np.histogram2d(out[0,:], out[1,:], bins=(15,10), density=True, range=[[-1.78, 1.78], [-1, 1]])\n",
    "hist"
   ]
  },
  {
   "cell_type": "code",
   "execution_count": 58,
   "metadata": {},
   "outputs": [
    {
     "name": "stdout",
     "output_type": "stream",
     "text": [
      "Looking for an Eye-Tracking stream...\n"
     ]
    },
    {
     "data": {
      "text/plain": [
       "<bokeh.server.callbacks.PeriodicCallback at 0x12f1e21d0>"
      ]
     },
     "execution_count": 58,
     "metadata": {},
     "output_type": "execute_result"
    }
   ],
   "source": [
    "from pylsl import StreamInlet, resolve_stream\n",
    "import numpy as np\n",
    "from bokeh.plotting import figure, curdoc\n",
    "from bokeh.models import ColumnDataSource, LinearColorMapper\n",
    "from bokeh.layouts import column\n",
    "from mne_lsl.stream import StreamLSL as Stream\n",
    "import pandas as pd\n",
    "\n",
    "\n",
    "# ---- LSL Setup ----\n",
    "print(\"Looking for an Eye-Tracking stream...\")\n",
    "estream = EyeTrackingStream(bufsize=4, source_id='eye_tracker').connect()\n",
    "\n",
    "# ---- Data Handling ----\n",
    "# Initialize empty data arrays\n",
    "x_coords = []\n",
    "y_coords = []\n",
    "\n",
    "# Function to get data from LSL and update the heatmap\n",
    "def update_heatmap():\n",
    "    global x_coords, y_coords\n",
    "\n",
    "    # Get a new sample\n",
    "    edata = estream.average_eye_data()\n",
    "\n",
    "    # Assuming the x and y coordinates are the first two elements in the sample\n",
    "    x_coords.append(edata['average_x'])\n",
    "    y_coords.append(edata['average_y'])\n",
    "\n",
    "    # Update the data source for the heatmap\n",
    "    source.data = dict(x=x_coords, y=y_coords)\n",
    "\n",
    "# ---- Bokeh Visualization ----\n",
    "# Create a color mapper\n",
    "color_mapper = LinearColorMapper(palette=\"Viridis256\", low=0, high=100)\n",
    "\n",
    "# Create a figure\n",
    "p = figure(title=\"Eye-Tracking Heatmap\",\n",
    "           x_axis_label=\"X-Coordinate\",\n",
    "           y_axis_label=\"Y-Coordinate\",\n",
    "           tools=\"pan,wheel_zoom,reset,save\",\n",
    "           match_aspect=True)\n",
    "\n",
    "# Create a data source\n",
    "source = ColumnDataSource(data=dict(x=[], y=[]))\n",
    "\n",
    "# Create the heatmap\n",
    "p.rect(x=\"x\", y=\"y\", width=10, height=10, \n",
    "       source=source, \n",
    "       fill_color={'field': 'density', 'transform': color_mapper},\n",
    "       line_color=None)\n",
    "\n",
    "# Add the plot to the current document\n",
    "curdoc().add_root(column(p))\n",
    "\n",
    "# Add a periodic callback to update the heatmap\n",
    "curdoc().add_periodic_callback(update_heatmap, 100)  # Update every 100 milliseconds"
   ]
  },
  {
   "cell_type": "code",
   "execution_count": null,
   "metadata": {},
   "outputs": [],
   "source": [
    "p = figure(title=\"Heatmap\", x_range=list(df.columns), y_range=list(df.index), toolbar_location=None, tools=\"hover\")\n",
    "p.rect(x='index', y='columns', width=1, height=1, source=source, fill_color=linear_cmap('values', 'Viridis256', 1, 4))\n",
    "p.xaxis.major_label_orientation = \"vertical\"\n",
    "p.yaxis.major_label_orientation = \"horizontal\"\n",
    "output_file(\"heatmap.html\")\n",
    "show(p)\n"
   ]
  },
  {
   "cell_type": "code",
   "execution_count": 39,
   "metadata": {},
   "outputs": [
    {
     "data": {
      "image/png": "[encoded data removed]",
      "text/plain": [
       "<Figure size 640x480 with 2 Axes>"
      ]
     },
     "metadata": {},
     "output_type": "display_data"
    }
   ],
   "source": [
    "import numpy as np\n",
    "import matplotlib.pyplot as plt\n",
    "\n",
    "x = np.random.randn(1000)\n",
    "y = np.random.randn(1000)\n",
    "\n",
    "hist, xedges, yedges = np.histogram2d(x, \n",
    "                                        y, \n",
    "                                        bins=(6,3), \n",
    "                                        density=True,\n",
    "                                        range=[[-6, 6], [-4, 4]])\n",
    "\n",
    "plt.imshow(hist, interpolation='nearest', origin='lower', extent=[xedges[0], xedges[-1], yedges[0], yedges[-1]])\n",
    "plt.colorbar()\n",
    "plt.show()"
   ]
  },
  {
   "cell_type": "code",
   "execution_count": 33,
   "metadata": {},
   "outputs": [
    {
     "data": {
      "text/plain": [
       "array([[0.       , 0.       , 0.       ],\n",
       "       [0.000375 , 0.0031875, 0.000375 ],\n",
       "       [0.008625 , 0.073125 , 0.0076875],\n",
       "       [0.0080625, 0.06975  , 0.0095625],\n",
       "       [0.0001875, 0.0061875, 0.000375 ],\n",
       "       [0.       , 0.       , 0.       ]])"
      ]
     },
     "execution_count": 33,
     "metadata": {},
     "output_type": "execute_result"
    }
   ],
   "source": [
    "hist"
   ]
  },
  {
   "cell_type": "code",
   "execution_count": 31,
   "metadata": {},
   "outputs": [
    {
     "data": {
      "text/plain": [
       "(7,)"
      ]
     },
     "execution_count": 31,
     "metadata": {},
     "output_type": "execute_result"
    }
   ],
   "source": [
    "xedges.shape"
   ]
  },
  {
   "cell_type": "code",
   "execution_count": 32,
   "metadata": {},
   "outputs": [
    {
     "data": {
      "text/plain": [
       "(4,)"
      ]
     },
     "execution_count": 32,
     "metadata": {},
     "output_type": "execute_result"
    }
   ],
   "source": [
    "yedges.shape"
   ]
  },
  {
   "cell_type": "code",
   "execution_count": null,
   "metadata": {},
   "outputs": [
    {
     "ename": "IndexError",
     "evalue": "too many indices for array: array is 1-dimensional, but 2 were indexed",
     "output_type": "error",
     "traceback": [
      "\u001b[0;31m---------------------------------------------------------------------------\u001b[0m",
      "\u001b[0;31mIndexError\u001b[0m                                Traceback (most recent call last)",
      "Cell \u001b[0;32mIn[35], line 54\u001b[0m\n\u001b[1;32m     51\u001b[0m y \u001b[38;5;241m=\u001b[39m np\u001b[38;5;241m.\u001b[39mrandom\u001b[38;5;241m.\u001b[39mrandn(\u001b[38;5;241m1000\u001b[39m)\n\u001b[1;32m     53\u001b[0m \u001b[38;5;66;03m# Call the function to create the heatmap\u001b[39;00m\n\u001b[0;32m---> 54\u001b[0m heatmap_cds(x, y)\n",
      "Cell \u001b[0;32mIn[35], line 21\u001b[0m, in \u001b[0;36mheatmap_cds\u001b[0;34m(x, y, bins)\u001b[0m\n\u001b[1;32m     17\u001b[0m hist \u001b[38;5;241m=\u001b[39m hist\u001b[38;5;241m.\u001b[39mravel()\n\u001b[1;32m     19\u001b[0m \u001b[38;5;66;03m# Create the data source\u001b[39;00m\n\u001b[1;32m     20\u001b[0m data \u001b[38;5;241m=\u001b[39m \u001b[38;5;28mdict\u001b[39m(\n\u001b[0;32m---> 21\u001b[0m     image\u001b[38;5;241m=\u001b[39m[hist[i,:] \u001b[38;5;28;01mfor\u001b[39;00m i \u001b[38;5;129;01min\u001b[39;00m \u001b[38;5;28mrange\u001b[39m(hist\u001b[38;5;241m.\u001b[39mshape[\u001b[38;5;241m0\u001b[39m])],  \u001b[38;5;66;03m# Note: hist is wrapped in a list\u001b[39;00m\n\u001b[1;32m     22\u001b[0m )\n\u001b[1;32m     23\u001b[0m source \u001b[38;5;241m=\u001b[39m ColumnDataSource(data)\n\u001b[1;32m     25\u001b[0m \u001b[38;5;66;03m# Create the plot\u001b[39;00m\n",
      "Cell \u001b[0;32mIn[35], line 21\u001b[0m, in \u001b[0;36m<listcomp>\u001b[0;34m(.0)\u001b[0m\n\u001b[1;32m     17\u001b[0m hist \u001b[38;5;241m=\u001b[39m hist\u001b[38;5;241m.\u001b[39mravel()\n\u001b[1;32m     19\u001b[0m \u001b[38;5;66;03m# Create the data source\u001b[39;00m\n\u001b[1;32m     20\u001b[0m data \u001b[38;5;241m=\u001b[39m \u001b[38;5;28mdict\u001b[39m(\n\u001b[0;32m---> 21\u001b[0m     image\u001b[38;5;241m=\u001b[39m[hist[i,:] \u001b[38;5;28;01mfor\u001b[39;00m i \u001b[38;5;129;01min\u001b[39;00m \u001b[38;5;28mrange\u001b[39m(hist\u001b[38;5;241m.\u001b[39mshape[\u001b[38;5;241m0\u001b[39m])],  \u001b[38;5;66;03m# Note: hist is wrapped in a list\u001b[39;00m\n\u001b[1;32m     22\u001b[0m )\n\u001b[1;32m     23\u001b[0m source \u001b[38;5;241m=\u001b[39m ColumnDataSource(data)\n\u001b[1;32m     25\u001b[0m \u001b[38;5;66;03m# Create the plot\u001b[39;00m\n",
      "\u001b[0;31mIndexError\u001b[0m: too many indices for array: array is 1-dimensional, but 2 were indexed"
     ]
    }
   ],
   "source": [
    "import numpy as np\n",
    "from bokeh.plotting import figure, show\n",
    "from bokeh.models import LinearColorMapper, ColorBar, ColumnDataSource\n",
    "\n",
    "def heatmap_cds(x, y, bins=50):\n",
    "  \"\"\"\n",
    "  Creates a heatmap using np.histogram2d and Bokeh with ColumnDataSource.\n",
    "\n",
    "  Args:\n",
    "    x: x-axis data.\n",
    "    y: y-axis data.\n",
    "    bins: Number of bins for the histogram.\n",
    "  \"\"\"\n",
    "\n",
    "  # Calculate the 2D histogram\n",
    "  hist, xedges, yedges = np.histogram2d(x, y, bins=bins,)\n",
    "  hist = hist.ravel()\n",
    "\n",
    "  # Create the data source\n",
    "  data = dict(\n",
    "      image=[hist[i,:] for i in range(hist.shape[0])],  # Note: hist is wrapped in a list\n",
    "  )\n",
    "  source = ColumnDataSource(data)\n",
    "\n",
    "  # Create the plot\n",
    "  p = figure(title=\"Heatmap using np.histogram2d and ColumnDataSource\")\n",
    "\n",
    "  # Use LinearColorMapper to map the histogram values to colors\n",
    "  color_mapper = LinearColorMapper(palette=\"Viridis256\", low=hist.min(), high=hist.max())\n",
    "\n",
    "  # Create the heatmap using p.rect with the data source\n",
    "  p.rect(\n",
    "      x=\"x\",\n",
    "      y=\"y\",\n",
    "      width=\"width\",\n",
    "      height=\"height\",\n",
    "      source=source,\n",
    "      fill_color={\"field\": \"image\", \"transform\": color_mapper},\n",
    "      line_color=None,\n",
    "  )\n",
    "\n",
    "  # Add a color bar\n",
    "  color_bar = ColorBar(color_mapper=color_mapper, location=(0, 0))\n",
    "  p.add_layout(color_bar, \"right\")\n",
    "\n",
    "  # Show the plot\n",
    "  show(p)\n",
    "\n",
    "# Generate some sample data\n",
    "x = np.random.randn(1000)\n",
    "y = np.random.randn(1000)\n",
    "\n",
    "# Call the function to create the heatmap\n",
    "heatmap_cds(x, y)"
   ]
  },
  {
   "cell_type": "code",
   "execution_count": 45,
   "metadata": {},
   "outputs": [
    {
     "name": "stdout",
     "output_type": "stream",
     "text": [
      "(11, 11)\n",
      "(11, 11)\n",
      "(10, 10)\n"
     ]
    }
   ],
   "source": [
    "x = np.random.randn(1000)\n",
    "y = np.random.randn(1000)\n",
    "hist, xedges, yedges = np.histogram2d(x, y, bins=10)\n",
    "X, Y = np.meshgrid(xedges, yedges) \n",
    "print(X.shape)\n",
    "print(Y.shape)\n",
    "print(hist.shape)"
   ]
  },
  {
   "cell_type": "code",
   "execution_count": 46,
   "metadata": {},
   "outputs": [
    {
     "data": {
      "text/plain": [
       "array([-2.91464217, -2.32933672, -1.74403126, -1.15872581, -0.57342036,\n",
       "        0.0118851 ,  0.59719055,  1.182496  ,  1.76780146,  2.35310691,\n",
       "        2.93841236])"
      ]
     },
     "execution_count": 46,
     "metadata": {},
     "output_type": "execute_result"
    }
   ],
   "source": [
    "xedges"
   ]
  },
  {
   "cell_type": "code",
   "execution_count": 25,
   "metadata": {},
   "outputs": [
    {
     "ename": "ValueError",
     "evalue": "failed to validate ColumnDataSource(id='p1194', ...).data: expected a dict of type ColumnData(String, Seq(Any)), got a dict with invalid keys: 1, 2, 3",
     "output_type": "error",
     "traceback": [
      "\u001b[0;31m---------------------------------------------------------------------------\u001b[0m",
      "\u001b[0;31mValueError\u001b[0m                                Traceback (most recent call last)",
      "Cell \u001b[0;32mIn[25], line 14\u001b[0m\n\u001b[1;32m     11\u001b[0m df \u001b[38;5;241m=\u001b[39m df\u001b[38;5;241m.\u001b[39mpivot(index\u001b[38;5;241m=\u001b[39m\u001b[38;5;124m'\u001b[39m\u001b[38;5;124my\u001b[39m\u001b[38;5;124m'\u001b[39m, columns\u001b[38;5;241m=\u001b[39m\u001b[38;5;124m'\u001b[39m\u001b[38;5;124mx\u001b[39m\u001b[38;5;124m'\u001b[39m, values\u001b[38;5;241m=\u001b[39m\u001b[38;5;124m'\u001b[39m\u001b[38;5;124mvalues\u001b[39m\u001b[38;5;124m'\u001b[39m)\n\u001b[1;32m     13\u001b[0m \u001b[38;5;66;03m# Create a ColumnDataSource from the pivoted dataframe\u001b[39;00m\n\u001b[0;32m---> 14\u001b[0m source \u001b[38;5;241m=\u001b[39m ColumnDataSource(df)\n\u001b[1;32m     16\u001b[0m \u001b[38;5;66;03m# Create a figure\u001b[39;00m\n\u001b[1;32m     17\u001b[0m p \u001b[38;5;241m=\u001b[39m figure(x_range\u001b[38;5;241m=\u001b[39m\u001b[38;5;28mlist\u001b[39m(df\u001b[38;5;241m.\u001b[39mcolumns), y_range\u001b[38;5;241m=\u001b[39m\u001b[38;5;28mlist\u001b[39m(df\u001b[38;5;241m.\u001b[39mindex), \n\u001b[1;32m     18\u001b[0m            title\u001b[38;5;241m=\u001b[39m\u001b[38;5;124m\"\u001b[39m\u001b[38;5;124mHeatmap\u001b[39m\u001b[38;5;124m\"\u001b[39m, width\u001b[38;5;241m=\u001b[39m\u001b[38;5;241m400\u001b[39m, height\u001b[38;5;241m=\u001b[39m\u001b[38;5;241m400\u001b[39m, \n\u001b[1;32m     19\u001b[0m            toolbar_location\u001b[38;5;241m=\u001b[39m\u001b[38;5;28;01mNone\u001b[39;00m, tools\u001b[38;5;241m=\u001b[39m\u001b[38;5;124m\"\u001b[39m\u001b[38;5;124m\"\u001b[39m)\n",
      "File \u001b[0;32m~/anaconda3/envs/mne_env/lib/python3.11/site-packages/bokeh/models/sources.py:243\u001b[0m, in \u001b[0;36mColumnDataSource.__init__\u001b[0;34m(self, *args, **kwargs)\u001b[0m\n\u001b[1;32m    241\u001b[0m         \u001b[38;5;28;01mraise\u001b[39;00m \u001b[38;5;167;01mValueError\u001b[39;00m(\u001b[38;5;124mf\u001b[39m\u001b[38;5;124m\"\u001b[39m\u001b[38;5;124mexpected a dict or pandas.DataFrame, got \u001b[39m\u001b[38;5;132;01m{\u001b[39;00mraw_data\u001b[38;5;132;01m}\u001b[39;00m\u001b[38;5;124m\"\u001b[39m)\n\u001b[1;32m    242\u001b[0m \u001b[38;5;28msuper\u001b[39m()\u001b[38;5;241m.\u001b[39m\u001b[38;5;21m__init__\u001b[39m(\u001b[38;5;241m*\u001b[39m\u001b[38;5;241m*\u001b[39mkwargs)\n\u001b[0;32m--> 243\u001b[0m \u001b[38;5;28mself\u001b[39m\u001b[38;5;241m.\u001b[39mdata\u001b[38;5;241m.\u001b[39mupdate(raw_data)\n",
      "File \u001b[0;32m~/anaconda3/envs/mne_env/lib/python3.11/site-packages/bokeh/core/property/wrappers.py:439\u001b[0m, in \u001b[0;36mPropertyValueColumnData.update\u001b[0;34m(self, *args, **kwargs)\u001b[0m\n\u001b[1;32m    437\u001b[0m \u001b[38;5;28;01mfor\u001b[39;00m (owner, descriptor) \u001b[38;5;129;01min\u001b[39;00m \u001b[38;5;28mself\u001b[39m\u001b[38;5;241m.\u001b[39m_owners:\n\u001b[1;32m    438\u001b[0m     hint \u001b[38;5;241m=\u001b[39m ColumnDataChangedEvent(owner\u001b[38;5;241m.\u001b[39mdocument, owner, \u001b[38;5;124m\"\u001b[39m\u001b[38;5;124mdata\u001b[39m\u001b[38;5;124m\"\u001b[39m, cols\u001b[38;5;241m=\u001b[39m\u001b[38;5;28mlist\u001b[39m(cols))\n\u001b[0;32m--> 439\u001b[0m     descriptor\u001b[38;5;241m.\u001b[39m_notify_mutated(owner, old, hint\u001b[38;5;241m=\u001b[39mhint)\n\u001b[1;32m    441\u001b[0m \u001b[38;5;28;01mreturn\u001b[39;00m result\n",
      "File \u001b[0;32m~/anaconda3/envs/mne_env/lib/python3.11/site-packages/bokeh/core/property/descriptors.py:649\u001b[0m, in \u001b[0;36mPropertyDescriptor._notify_mutated\u001b[0;34m(self, obj, old, hint)\u001b[0m\n\u001b[1;32m    645\u001b[0m value \u001b[38;5;241m=\u001b[39m \u001b[38;5;28mself\u001b[39m\u001b[38;5;241m.\u001b[39m\u001b[38;5;21m__get__\u001b[39m(obj, obj\u001b[38;5;241m.\u001b[39m\u001b[38;5;18m__class__\u001b[39m)\n\u001b[1;32m    647\u001b[0m \u001b[38;5;66;03m# re-validate because the contents of 'old' have changed,\u001b[39;00m\n\u001b[1;32m    648\u001b[0m \u001b[38;5;66;03m# in some cases this could give us a new object for the value\u001b[39;00m\n\u001b[0;32m--> 649\u001b[0m value \u001b[38;5;241m=\u001b[39m \u001b[38;5;28mself\u001b[39m\u001b[38;5;241m.\u001b[39mproperty\u001b[38;5;241m.\u001b[39mprepare_value(obj, \u001b[38;5;28mself\u001b[39m\u001b[38;5;241m.\u001b[39mname, value, hint\u001b[38;5;241m=\u001b[39mhint)\n\u001b[1;32m    651\u001b[0m \u001b[38;5;28mself\u001b[39m\u001b[38;5;241m.\u001b[39m_set(obj, old, value, hint\u001b[38;5;241m=\u001b[39mhint)\n",
      "File \u001b[0;32m~/anaconda3/envs/mne_env/lib/python3.11/site-packages/bokeh/core/property/bases.py:363\u001b[0m, in \u001b[0;36mProperty.prepare_value\u001b[0;34m(self, owner, name, value, hint)\u001b[0m\n\u001b[1;32m    361\u001b[0m \u001b[38;5;28;01melse\u001b[39;00m:\n\u001b[1;32m    362\u001b[0m     obj_repr \u001b[38;5;241m=\u001b[39m owner \u001b[38;5;28;01mif\u001b[39;00m \u001b[38;5;28misinstance\u001b[39m(owner, HasProps) \u001b[38;5;28;01melse\u001b[39;00m owner\u001b[38;5;241m.\u001b[39m\u001b[38;5;18m__name__\u001b[39m\n\u001b[0;32m--> 363\u001b[0m     \u001b[38;5;28;01mraise\u001b[39;00m \u001b[38;5;167;01mValueError\u001b[39;00m(\u001b[38;5;124mf\u001b[39m\u001b[38;5;124m\"\u001b[39m\u001b[38;5;124mfailed to validate \u001b[39m\u001b[38;5;132;01m{\u001b[39;00mobj_repr\u001b[38;5;132;01m}\u001b[39;00m\u001b[38;5;124m.\u001b[39m\u001b[38;5;132;01m{\u001b[39;00mname\u001b[38;5;132;01m}\u001b[39;00m\u001b[38;5;124m: \u001b[39m\u001b[38;5;132;01m{\u001b[39;00merror\u001b[38;5;132;01m}\u001b[39;00m\u001b[38;5;124m\"\u001b[39m)\n\u001b[1;32m    365\u001b[0m \u001b[38;5;28;01mif\u001b[39;00m \u001b[38;5;28misinstance\u001b[39m(owner, HasProps):\n\u001b[1;32m    366\u001b[0m     obj \u001b[38;5;241m=\u001b[39m owner\n",
      "\u001b[0;31mValueError\u001b[0m: failed to validate ColumnDataSource(id='p1194', ...).data: expected a dict of type ColumnData(String, Seq(Any)), got a dict with invalid keys: 1, 2, 3"
     ]
    }
   ],
   "source": [
    "import pandas as pd\n",
    "from bokeh.plotting import figure, show\n",
    "from bokeh.models import ColumnDataSource, LinearColorMapper, ColorBar\n",
    "from bokeh.palettes import Viridis256\n",
    "\n",
    "# Create a sample dataframe\n",
    "data = {'x': [1, 2, 3], 'y': ['A', 'B', 'C'], 'values': [10, 20, 30]}\n",
    "df = pd.DataFrame(data)\n",
    "\n",
    "# Pivot the dataframe to create a matrix for the heatmap\n",
    "df = df.pivot(index='y', columns='x', values='values')\n",
    "\n",
    "# Create a ColumnDataSource from the pivoted dataframe\n",
    "source = ColumnDataSource(df)\n",
    "\n",
    "# Create a figure\n",
    "p = figure(x_range=list(df.columns), y_range=list(df.index), \n",
    "           title=\"Heatmap\", width=400, height=400, \n",
    "           toolbar_location=None, tools=\"\")\n",
    "\n",
    "# Create a color mapper\n",
    "mapper = LinearColorMapper(palette=Viridis256, low=df.min().min(), high=df.max().max())\n",
    "\n",
    "# Draw the heatmap rectangles\n",
    "p.rect(x='x', y='y', width=1, height=1, source=source,\n",
    "       fill_color={'field': 'values', 'transform': mapper},\n",
    "       line_color=None)\n",
    "\n",
    "# Add a color bar\n",
    "color_bar = ColorBar(color_mapper=mapper, location=(0, 0))\n",
    "p.add_layout(color_bar, 'right')\n",
    "\n",
    "# Show the plot\n",
    "show(p)"
   ]
  },
  {
   "cell_type": "code",
   "execution_count": null,
   "metadata": {},
   "outputs": [],
   "source": [
    "import numpy as np\n",
    "from bokeh.models import HoverTool\n",
    "from bokeh.plotting import figure, show\n",
    "import pandas as pd\n",
    "\n",
    "x = 2 + 2*np.random.standard_normal(500)\n",
    "y = 2 + 2*np.random.standard_normal(500)\n",
    "\n",
    "p = figure(match_aspect=True, tools=\"wheel_zoom,reset\")\n",
    "p.background_fill_color = '#440154'\n",
    "p.grid.visible = False\n",
    "\n",
    "p.hexbin(x, y, size=0.5, hover_color=\"pink\", hover_alpha=0.8)\n",
    "\n",
    "hover = HoverTool(tooltips=[(\"count\", \"@c\"), (\"(q,r)\", \"(@q, @r)\")])\n",
    "p.add_tools(hover)\n",
    "\n",
    "show(p)"
   ]
  },
  {
   "cell_type": "code",
   "execution_count": null,
   "metadata": {},
   "outputs": [],
   "source": [
    "import numpy as np\n",
    "from bokeh.plotting import figure, show\n",
    "from bokeh.models import ColumnDataSource, LinearColorMapper, ColorBar\n",
    "from bokeh.palettes import Viridis256, Magma\n",
    "import pandas as pd\n",
    "\n",
    "\n",
    "x = np.random.randn(1000)\n",
    "y = np.random.randn(1000)\n",
    "\n",
    "hist, xedges, yedges = np.histogram2d(x, y, bins=(10,15), range=[[-1,1],[-1.78,1.78]], density=True)\n",
    "xcenters = np.tile(np.linspace(xedges[0],xedges[-1],15),10)\n",
    "ycenters = np.repeat(np.linspace(yedges[0],yedges[-1],10),15)\n",
    "out = pd.DataFrame({'x': xcenters, 'y': ycenters, 'image': hist.flatten()})\n",
    "\n",
    "# Create data source for the plot\n",
    "source = ColumnDataSource(data=out)\n",
    "\n",
    "# Create color mapper\n",
    "mapper = LinearColorMapper(palette=Viridis256, low=0, high=1)\n",
    "\n",
    "p = figure(width=1100, height=800, toolbar_location=\"above\")\n",
    "\n",
    "  # Add heatmap rectangles\n",
    "p.rect(x=\"x\", y=\"y\", width = 1, height=1, source=source, fill_color={'field': 'image', 'transform': mapper})\n",
    "\n",
    "  # Add color bar\n",
    "\n",
    "#p.add_layout(color_bar, 'right')\n",
    "\n",
    "\n",
    "\n",
    "\n",
    "show(p)"
   ]
  },
  {
   "cell_type": "code",
   "execution_count": 1,
   "metadata": {},
   "outputs": [
    {
     "name": "stderr",
     "output_type": "stream",
     "text": [
      "BokehDeprecationWarning: 'circle() method with size value' was deprecated in Bokeh 3.4.0 and will be removed, use 'scatter(size=...) instead' instead.\n",
      "BokehDeprecationWarning: 'square() method' was deprecated in Bokeh 3.4.0 and will be removed, use \"scatter(marker='square', ...) instead\" instead.\n",
      "BokehDeprecationWarning: 'hex() method' was deprecated in Bokeh 3.4.0 and will be removed, use \"scatter(marker='hex', ...) instead\" instead.\n",
      "BokehDeprecationWarning: 'inverted_triangle() method' was deprecated in Bokeh 3.4.0 and will be removed, use \"scatter(marker='inverted_triangle', ...) instead\" instead.\n",
      "BokehDeprecationWarning: 'diamond() method' was deprecated in Bokeh 3.4.0 and will be removed, use \"scatter(marker='diamond', ...) instead\" instead.\n",
      "BokehDeprecationWarning: 'cross() method' was deprecated in Bokeh 3.4.0 and will be removed, use \"scatter(marker='cross', ...) instead\" instead.\n"
     ]
    }
   ],
   "source": [
    "# import modules\n",
    "from bokeh.io import output_file, show\n",
    "from bokeh.layouts import row\n",
    "from bokeh.plotting import figure\n",
    "import numpy as np\n",
    "import random\n",
    " \n",
    " \n",
    "# create a new plot\n",
    "# instantiating the figure object\n",
    "fig1 = figure(title=\"Plot 1\")\n",
    " \n",
    "# coordinates\n",
    "x = [[[[0, 0, 1, 1]]],\n",
    "     [[[2, 2, 4, 4], [2.5, 2.5, 3.5, 3.5]]],\n",
    "     [[[2, 0, 4]]]]\n",
    "y = [[[[2.5, 0.5, 0.5, 2.5]]],\n",
    "     [[[1, 0, 0, 1], [0.75, 0.25, 0.25, 0.75]]],\n",
    "     [[[2, 0, 0]]]]\n",
    " \n",
    "# color values of the polygons\n",
    "color = [\"red\", \"purple\", \"yellow\"]\n",
    " \n",
    "# fill alpha values of the polygons\n",
    "fill_alpha = 0.5\n",
    " \n",
    "# plotting the graph\n",
    "fig1.multi_polygons(x, y,\n",
    "                    color=color,\n",
    "                    fill_alpha=fill_alpha)\n",
    " \n",
    " \n",
    "# create another plot\n",
    "# coordinates\n",
    "x = np.arange(5)\n",
    "y = x**2\n",
    "z = x*3\n",
    "p = np.linspace(1, 20, 7)\n",
    "q = np.linspace(1, 10, 7)\n",
    "r = np.linspace(1, 30, 5)\n",
    "a = np.arange(31)\n",
    " \n",
    "# creating an empty figure with specific plot\n",
    "# width and height\n",
    "fig2 = figure(title=\"Plot 2\")\n",
    " \n",
    "# plotting the points in the form of\n",
    "# circular glyphs\n",
    "fig2.circle(x, y, color=\"red\", size=20)\n",
    " \n",
    "# plotting the points in the form of\n",
    "# square glyphs\n",
    "fig2.square(x, z, color=\"blue\", size=15, alpha=0.5)\n",
    " \n",
    "# plotting the points in the form of\n",
    "# hex glyphs\n",
    "fig2.hex(y, z, color=\"green\", size=10, alpha=0.7)\n",
    " \n",
    "# drawing a line between the plotted points\n",
    "fig2.line(x, y, color=\"green\", line_width=4)\n",
    " \n",
    "# plotting the points in the form of\n",
    "# inverted triangle glyph\n",
    "fig2.inverted_triangle(p, q, color=\"yellow\", size=20, alpha=0.4)\n",
    " \n",
    "# plotting the points in the form of\n",
    "# diamond glyphs\n",
    "fig2.diamond(x, r, color=\"purple\", size=16, alpha=0.8)\n",
    " \n",
    "# plotting the points in the form of\n",
    "# cross glyphs\n",
    "fig2.cross(a, a, size=14)\n",
    " \n",
    " \n",
    "# create a third plot\n",
    "# generating the points to be plotted\n",
    "x = []\n",
    "y = []\n",
    "for i in range(100):\n",
    "    x.append(i)\n",
    "for i in range(100):\n",
    "    y.append(1 + random.random())\n",
    " \n",
    "# parameters of line 1\n",
    "line_color = \"red\"\n",
    "line_dash = \"solid\"\n",
    "legend_label = \"Line 1\"\n",
    " \n",
    "fig3 = figure(title=\"Plot 3\")\n",
    " \n",
    "# plotting the line\n",
    "fig3.line(x, y,\n",
    "          line_color=line_color,\n",
    "          line_dash=line_dash,\n",
    "          legend_label=legend_label)\n",
    " \n",
    "# plotting line 2\n",
    "# generating the points to be plotted\n",
    "x = []\n",
    "y = []\n",
    "for i in range(100):\n",
    "    x.append(i)\n",
    "for i in range(100):\n",
    "    y.append(random.random())\n",
    " \n",
    "# parameters of line 2\n",
    "line_color = \"green\"\n",
    "line_dash = \"dotdash\"\n",
    "line_dash_offset = 1\n",
    "legend_label = \"Line 2\"\n",
    " \n",
    "# plotting the line\n",
    "fig3.line(x, y,\n",
    "          line_color=line_color,\n",
    "          line_dash=line_dash,\n",
    "          line_dash_offset=line_dash_offset,\n",
    "          legend_label=legend_label)\n",
    " \n",
    "# depict visualization\n",
    "show(row(fig1, fig2, fig3))"
   ]
  },
  {
   "cell_type": "code",
   "execution_count": null,
   "metadata": {},
   "outputs": [
    {
     "name": "stderr",
     "output_type": "stream",
     "text": [
      "WARNING:bokeh.embed.util:\n",
      "You are generating standalone HTML/JS output, but trying to use real Python\n",
      "callbacks (i.e. with on_change or on_event). This combination cannot work.\n",
      "\n",
      "Only JavaScript callbacks may be used with standalone output. For more\n",
      "information on JavaScript callbacks with Bokeh, see:\n",
      "\n",
      "    https://docs.bokeh.org/en/latest/docs/user_guide/interaction/js_callbacks.html\n",
      "\n",
      "Alternatively, to use real Python callbacks, a Bokeh server application may\n",
      "be used. For more information on building and running Bokeh applications, see:\n",
      "\n",
      "    https://docs.bokeh.org/en/latest/docs/user_guide/server.html\n",
      "\n"
     ]
    }
   ],
   "source": [
    "import numpy as np\n",
    "from bokeh.plotting import figure, show, output_file\n",
    "from bokeh.models import ColumnDataSource, Slider\n",
    "from bokeh.layouts import column\n",
    "from bokeh.io import curdoc\n",
    "\n",
    "# Sample data\n",
    "x = np.linspace(0, 10, 100)\n",
    "y = np.sin(x)\n",
    "\n",
    "source = ColumnDataSource(data=dict(x=x, y=y))\n",
    "\n",
    "# Create a plot\n",
    "p = figure(title=\"Interactive Y-Range Plot\", x_axis_label='X', y_axis_label='Y')\n",
    "p.line('x', 'y', source=source, line_width=2)\n",
    "\n",
    "# Create a slider to change the y-axis range\n",
    "slider = Slider(start=0, end=10, value=1, step=0.1, title=\"Y-Range\")\n",
    "\n",
    "# Update function to change y-axis range\n",
    "def update(attr, old, new):\n",
    "    p.y_range.start = -slider.value\n",
    "    p.y_range.end = slider.value\n",
    "\n",
    "slider.on_change('value', update)\n",
    "\n",
    "\n",
    "# Layout\n",
    "layout = column(p, slider)\n",
    "\n",
    "# Add the layout to the current document\n",
    "curdoc().add_root(layout)\n",
    "\n",
    "# Save and show the plot\n",
    "output_file(\"interactive_y_range_plot.html\")\n",
    "show(layout)\n"
   ]
  }
 ],
 "metadata": {
  "kernelspec": {
   "display_name": "mne_env",
   "language": "python",
   "name": "python3"
  },
  "language_info": {
   "codemirror_mode": {
    "name": "ipython",
    "version": 3
   },
   "file_extension": ".py",
   "mimetype": "text/x-python",
   "name": "python",
   "nbconvert_exporter": "python",
   "pygments_lexer": "ipython3",
   "version": "3.11.10"
  }
 },
 "nbformat": 4,
 "nbformat_minor": 2
}
